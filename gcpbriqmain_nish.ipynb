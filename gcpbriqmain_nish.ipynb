{
  "nbformat": 4,
  "nbformat_minor": 0,
  "metadata": {
    "colab": {
      "name": "gcpbriqmain_nish.ipynb",
      "provenance": [],
      "mount_file_id": "1rzVKBulHe7VZMI0qsNhNbPO-q_-x52eT",
      "authorship_tag": "ABX9TyPmIj+jLGowlxwryw8onYfp",
      "include_colab_link": true
    },
    "kernelspec": {
      "name": "python3",
      "display_name": "Python 3"
    }
  },
  "cells": [
    {
      "cell_type": "markdown",
      "metadata": {
        "id": "view-in-github",
        "colab_type": "text"
      },
      "source": [
        "<a href=\"https://colab.research.google.com/github/gnishtha/Briqs/blob/master/gcpbriqmain_nish.ipynb\" target=\"_parent\"><img src=\"https://colab.research.google.com/assets/colab-badge.svg\" alt=\"Open In Colab\"/></a>"
      ]
    },
    {
      "cell_type": "code",
      "metadata": {
        "id": "6zyoQ63YUbvM",
        "colab_type": "code",
        "colab": {
          "base_uri": "https://localhost:8080/",
          "height": 496
        },
        "outputId": "a367f2ca-b380-4457-f580-d876ef46fb1f"
      },
      "source": [
        "!pip install google-cloud-vision"
      ],
      "execution_count": 1,
      "outputs": [
        {
          "output_type": "stream",
          "text": [
            "Collecting google-cloud-vision\n",
            "\u001b[?25l  Downloading https://files.pythonhosted.org/packages/0d/7f/e10d602c2dc3f749f1b78377a3357790f1da71b28e7da9e5bc20b3a9bd40/google_cloud_vision-1.0.0-py2.py3-none-any.whl (435kB)\n",
            "\r\u001b[K     |▊                               | 10kB 20.2MB/s eta 0:00:01\r\u001b[K     |█▌                              | 20kB 1.7MB/s eta 0:00:01\r\u001b[K     |██▎                             | 30kB 2.3MB/s eta 0:00:01\r\u001b[K     |███                             | 40kB 2.6MB/s eta 0:00:01\r\u001b[K     |███▊                            | 51kB 2.0MB/s eta 0:00:01\r\u001b[K     |████▌                           | 61kB 2.3MB/s eta 0:00:01\r\u001b[K     |█████▎                          | 71kB 2.5MB/s eta 0:00:01\r\u001b[K     |██████                          | 81kB 2.7MB/s eta 0:00:01\r\u001b[K     |██████▉                         | 92kB 2.9MB/s eta 0:00:01\r\u001b[K     |███████▌                        | 102kB 2.8MB/s eta 0:00:01\r\u001b[K     |████████▎                       | 112kB 2.8MB/s eta 0:00:01\r\u001b[K     |█████████                       | 122kB 2.8MB/s eta 0:00:01\r\u001b[K     |█████████▉                      | 133kB 2.8MB/s eta 0:00:01\r\u001b[K     |██████████▌                     | 143kB 2.8MB/s eta 0:00:01\r\u001b[K     |███████████▎                    | 153kB 2.8MB/s eta 0:00:01\r\u001b[K     |████████████                    | 163kB 2.8MB/s eta 0:00:01\r\u001b[K     |████████████▉                   | 174kB 2.8MB/s eta 0:00:01\r\u001b[K     |█████████████▋                  | 184kB 2.8MB/s eta 0:00:01\r\u001b[K     |██████████████▎                 | 194kB 2.8MB/s eta 0:00:01\r\u001b[K     |███████████████                 | 204kB 2.8MB/s eta 0:00:01\r\u001b[K     |███████████████▉                | 215kB 2.8MB/s eta 0:00:01\r\u001b[K     |████████████████▋               | 225kB 2.8MB/s eta 0:00:01\r\u001b[K     |█████████████████▎              | 235kB 2.8MB/s eta 0:00:01\r\u001b[K     |██████████████████              | 245kB 2.8MB/s eta 0:00:01\r\u001b[K     |██████████████████▉             | 256kB 2.8MB/s eta 0:00:01\r\u001b[K     |███████████████████▋            | 266kB 2.8MB/s eta 0:00:01\r\u001b[K     |████████████████████▍           | 276kB 2.8MB/s eta 0:00:01\r\u001b[K     |█████████████████████           | 286kB 2.8MB/s eta 0:00:01\r\u001b[K     |█████████████████████▉          | 296kB 2.8MB/s eta 0:00:01\r\u001b[K     |██████████████████████▋         | 307kB 2.8MB/s eta 0:00:01\r\u001b[K     |███████████████████████▍        | 317kB 2.8MB/s eta 0:00:01\r\u001b[K     |████████████████████████        | 327kB 2.8MB/s eta 0:00:01\r\u001b[K     |████████████████████████▉       | 337kB 2.8MB/s eta 0:00:01\r\u001b[K     |█████████████████████████▋      | 348kB 2.8MB/s eta 0:00:01\r\u001b[K     |██████████████████████████▍     | 358kB 2.8MB/s eta 0:00:01\r\u001b[K     |███████████████████████████▏    | 368kB 2.8MB/s eta 0:00:01\r\u001b[K     |███████████████████████████▉    | 378kB 2.8MB/s eta 0:00:01\r\u001b[K     |████████████████████████████▋   | 389kB 2.8MB/s eta 0:00:01\r\u001b[K     |█████████████████████████████▍  | 399kB 2.8MB/s eta 0:00:01\r\u001b[K     |██████████████████████████████▏ | 409kB 2.8MB/s eta 0:00:01\r\u001b[K     |██████████████████████████████▉ | 419kB 2.8MB/s eta 0:00:01\r\u001b[K     |███████████████████████████████▋| 430kB 2.8MB/s eta 0:00:01\r\u001b[K     |████████████████████████████████| 440kB 2.8MB/s \n",
            "\u001b[?25hRequirement already satisfied: google-api-core[grpc]<2.0.0dev,>=1.14.0 in /usr/local/lib/python3.6/dist-packages (from google-cloud-vision) (1.16.0)\n",
            "Requirement already satisfied: protobuf>=3.4.0 in /usr/local/lib/python3.6/dist-packages (from google-api-core[grpc]<2.0.0dev,>=1.14.0->google-cloud-vision) (3.10.0)\n",
            "Requirement already satisfied: six>=1.10.0 in /usr/local/lib/python3.6/dist-packages (from google-api-core[grpc]<2.0.0dev,>=1.14.0->google-cloud-vision) (1.12.0)\n",
            "Requirement already satisfied: google-auth<2.0dev,>=0.4.0 in /usr/local/lib/python3.6/dist-packages (from google-api-core[grpc]<2.0.0dev,>=1.14.0->google-cloud-vision) (1.17.2)\n",
            "Requirement already satisfied: googleapis-common-protos<2.0dev,>=1.6.0 in /usr/local/lib/python3.6/dist-packages (from google-api-core[grpc]<2.0.0dev,>=1.14.0->google-cloud-vision) (1.52.0)\n",
            "Requirement already satisfied: pytz in /usr/local/lib/python3.6/dist-packages (from google-api-core[grpc]<2.0.0dev,>=1.14.0->google-cloud-vision) (2018.9)\n",
            "Requirement already satisfied: setuptools>=34.0.0 in /usr/local/lib/python3.6/dist-packages (from google-api-core[grpc]<2.0.0dev,>=1.14.0->google-cloud-vision) (47.3.1)\n",
            "Requirement already satisfied: requests<3.0.0dev,>=2.18.0 in /usr/local/lib/python3.6/dist-packages (from google-api-core[grpc]<2.0.0dev,>=1.14.0->google-cloud-vision) (2.23.0)\n",
            "Requirement already satisfied: grpcio<2.0dev,>=1.8.2; extra == \"grpc\" in /usr/local/lib/python3.6/dist-packages (from google-api-core[grpc]<2.0.0dev,>=1.14.0->google-cloud-vision) (1.29.0)\n",
            "Requirement already satisfied: cachetools<5.0,>=2.0.0 in /usr/local/lib/python3.6/dist-packages (from google-auth<2.0dev,>=0.4.0->google-api-core[grpc]<2.0.0dev,>=1.14.0->google-cloud-vision) (4.1.0)\n",
            "Requirement already satisfied: rsa<5,>=3.1.4; python_version >= \"3\" in /usr/local/lib/python3.6/dist-packages (from google-auth<2.0dev,>=0.4.0->google-api-core[grpc]<2.0.0dev,>=1.14.0->google-cloud-vision) (4.6)\n",
            "Requirement already satisfied: pyasn1-modules>=0.2.1 in /usr/local/lib/python3.6/dist-packages (from google-auth<2.0dev,>=0.4.0->google-api-core[grpc]<2.0.0dev,>=1.14.0->google-cloud-vision) (0.2.8)\n",
            "Requirement already satisfied: urllib3!=1.25.0,!=1.25.1,<1.26,>=1.21.1 in /usr/local/lib/python3.6/dist-packages (from requests<3.0.0dev,>=2.18.0->google-api-core[grpc]<2.0.0dev,>=1.14.0->google-cloud-vision) (1.24.3)\n",
            "Requirement already satisfied: idna<3,>=2.5 in /usr/local/lib/python3.6/dist-packages (from requests<3.0.0dev,>=2.18.0->google-api-core[grpc]<2.0.0dev,>=1.14.0->google-cloud-vision) (2.9)\n",
            "Requirement already satisfied: certifi>=2017.4.17 in /usr/local/lib/python3.6/dist-packages (from requests<3.0.0dev,>=2.18.0->google-api-core[grpc]<2.0.0dev,>=1.14.0->google-cloud-vision) (2020.4.5.2)\n",
            "Requirement already satisfied: chardet<4,>=3.0.2 in /usr/local/lib/python3.6/dist-packages (from requests<3.0.0dev,>=2.18.0->google-api-core[grpc]<2.0.0dev,>=1.14.0->google-cloud-vision) (3.0.4)\n",
            "Requirement already satisfied: pyasn1>=0.1.3 in /usr/local/lib/python3.6/dist-packages (from rsa<5,>=3.1.4; python_version >= \"3\"->google-auth<2.0dev,>=0.4.0->google-api-core[grpc]<2.0.0dev,>=1.14.0->google-cloud-vision) (0.4.8)\n",
            "Installing collected packages: google-cloud-vision\n",
            "Successfully installed google-cloud-vision-1.0.0\n"
          ],
          "name": "stdout"
        },
        {
          "output_type": "display_data",
          "data": {
            "application/vnd.colab-display-data+json": {
              "pip_warning": {
                "packages": [
                  "google"
                ]
              }
            }
          },
          "metadata": {
            "tags": []
          }
        }
      ]
    },
    {
      "cell_type": "code",
      "metadata": {
        "id": "azMv6tlkZXFP",
        "colab_type": "code",
        "colab": {
          "base_uri": "https://localhost:8080/",
          "height": 340
        },
        "outputId": "37674cdc-6a75-4ab7-882a-b623845cdcaa"
      },
      "source": [
        "!apt-get install poppler-utils "
      ],
      "execution_count": 2,
      "outputs": [
        {
          "output_type": "stream",
          "text": [
            "Reading package lists... Done\n",
            "Building dependency tree       \n",
            "Reading state information... Done\n",
            "The following package was automatically installed and is no longer required:\n",
            "  libnvidia-common-440\n",
            "Use 'apt autoremove' to remove it.\n",
            "The following NEW packages will be installed:\n",
            "  poppler-utils\n",
            "0 upgraded, 1 newly installed, 0 to remove and 59 not upgraded.\n",
            "Need to get 154 kB of archives.\n",
            "After this operation, 613 kB of additional disk space will be used.\n",
            "Get:1 http://archive.ubuntu.com/ubuntu bionic-updates/main amd64 poppler-utils amd64 0.62.0-2ubuntu2.10 [154 kB]\n",
            "Fetched 154 kB in 0s (314 kB/s)\n",
            "Selecting previously unselected package poppler-utils.\n",
            "(Reading database ... 144328 files and directories currently installed.)\n",
            "Preparing to unpack .../poppler-utils_0.62.0-2ubuntu2.10_amd64.deb ...\n",
            "Unpacking poppler-utils (0.62.0-2ubuntu2.10) ...\n",
            "Setting up poppler-utils (0.62.0-2ubuntu2.10) ...\n",
            "Processing triggers for man-db (2.8.3-2ubuntu0.1) ...\n"
          ],
          "name": "stdout"
        }
      ]
    },
    {
      "cell_type": "code",
      "metadata": {
        "id": "J-Rm31JGZeDK",
        "colab_type": "code",
        "colab": {}
      },
      "source": [
        "import os\n",
        "os.environ[\"GOOGLE_APPLICATION_CREDENTIALS\"]=\"/content/drive/My Drive/briq-chronicle-8e5681b27d06.json\""
      ],
      "execution_count": 3,
      "outputs": []
    },
    {
      "cell_type": "code",
      "metadata": {
        "id": "ImEmk0sTZjgq",
        "colab_type": "code",
        "colab": {}
      },
      "source": [
        "import io\n",
        "import os\n",
        "from google.cloud import vision\n",
        "from google.cloud.vision import types\n",
        "import pandas as pd\n",
        "import json\n",
        "import cv2\n",
        "import matplotlib.pyplot as plt\n",
        "from collections import Counter\n",
        "from dateutil import parser\n",
        "import re\n",
        "from google.cloud import storage\n",
        "from google.protobuf import json_format\n",
        "from requests.utils import requote_uri\n",
        "from urllib.request import urlopen\n",
        "from PIL import Image"
      ],
      "execution_count": 4,
      "outputs": []
    },
    {
      "cell_type": "code",
      "metadata": {
        "id": "yVdWTccGZmeB",
        "colab_type": "code",
        "colab": {}
      },
      "source": [
        "from google.cloud import storage\n",
        "client = storage.Client()\n",
        "def getbufferofblog(bucketname,blobfile):\n",
        "    bucket = client.get_bucket(bucketname)\n",
        "    blob = bucket.get_blob(blobfile)\n",
        "    blob.download_as_string()\n",
        "    return blob.download_as_string()"
      ],
      "execution_count": 5,
      "outputs": []
    },
    {
      "cell_type": "code",
      "metadata": {
        "id": "sEY1ywu4aP6Y",
        "colab_type": "code",
        "colab": {}
      },
      "source": [
        "def detect_text_v1(content):\n",
        "    \"\"\"Detects text in the file. Using google vision api (output will be in dataframe format)\"\"\"\n",
        "    client = vision.ImageAnnotatorClient()\n",
        "\n",
        "    # with io.open(path, 'rb') as image_file:\n",
        "    #     content = image_file.read()\n",
        "\n",
        "    image = vision.types.Image(content=content)\n",
        "\n",
        "    response = client.text_detection(image=image)\n",
        "    texts = response.text_annotations\n",
        "    txt = []\n",
        "    x0 = []\n",
        "    x1 = []\n",
        "    y0 = []\n",
        "    y1 = []\n",
        "    centerx = []\n",
        "    centery = []\n",
        "    for text in texts[1:]:\n",
        "        #print('\\n\"{}\"'.format(text.description))\n",
        "        txt.append(text.description)\n",
        "        vertices = ([(vertex.x, vertex.y)\n",
        "                    for vertex in text.bounding_poly.vertices])\n",
        "        x0.append(vertices[0][0]) \n",
        "        x1.append(vertices[1][0])\n",
        "        y0.append(vertices[0][1])\n",
        "        y1.append(vertices[2][1])\n",
        "        centerx.append(int((vertices[0][0]+vertices[1][0])/2))\n",
        "        centery.append(int((vertices[0][1]+vertices[2][1])/2))\n",
        "        #print('bounds: ',(vertices))\n",
        "    return pd.DataFrame({\"text\":txt,\"x0\":x0,\"y0\":y0,\"x1\":x1,\"y1\":y1,\"centerx\":centerx,\"centery\":centery})\n",
        "    if response.error.message:\n",
        "        raise Exception(\n",
        "            '{}\\nFor more info on error messages, check: '\n",
        "            'https://cloud.google.com/apis/design/errors'.format(\n",
        "                response.error.message))"
      ],
      "execution_count": 6,
      "outputs": []
    },
    {
      "cell_type": "code",
      "metadata": {
        "id": "rf90SD9la9Uw",
        "colab_type": "code",
        "colab": {}
      },
      "source": [
        "\"\"\"Take dataframe as input and add column line for each words  \"\"\"\n",
        "def get_sequence_data(data):\n",
        "    df = data.sort_values(by = [\"centery\"])\n",
        "    lst = list(df['centery'])\n",
        "    count = 0\n",
        "    line = []\n",
        "    for i in range(len(lst)):\n",
        "        if i != len(lst)-1:\n",
        "            if lst[i+1] - lst[i] > 8:\n",
        "                line.append(count)\n",
        "                count += 1\n",
        "            else:\n",
        "                line.append(count)\n",
        "        else:\n",
        "            line.append(count)\n",
        "    df['line'] = line\n",
        "    df = df.sort_values(by=['line','x0'])\n",
        "    df.reset_index(drop=True, inplace=True)\n",
        "    #print(\"xxx\")\n",
        "    #print(df)\n",
        "    return df"
      ],
      "execution_count": 7,
      "outputs": []
    },
    {
      "cell_type": "code",
      "metadata": {
        "id": "Eh11SbBwbDCg",
        "colab_type": "code",
        "colab": {}
      },
      "source": [
        "\"\"\"\n",
        "input -> start_text of and end_text of field\n",
        "output -> return info of field (for moveable data)\n",
        "\"\"\"\n",
        "def get_moveable_field_data(data,key,isTable):\n",
        "    start_data = data[data['text'].astype(str).str.contains(key['start'], case=False)]\n",
        "    end_data = data[data['text'].astype(str).str.contains(key['end'], case=False)]\n",
        "    temp_dct = {}\n",
        "    for ind, row in start_data.iterrows():\n",
        "        temp_dct[str(ind)+\"_\"+str(abs(end_data['line'] - row['line']).idxmin())] = min(abs(end_data['line'] - row['line']))\n",
        "    indxs = min(temp_dct, key=temp_dct.get)\n",
        "    strt = int(indxs.split(\"_\")[0])\n",
        "    end = int(indxs.split(\"_\")[1])\n",
        "    end_line = data.loc[end,'line']\n",
        "    strt_line = data.loc[strt,'line']\n",
        "    if isTable==False:\n",
        "        if end_line != strt_line:\n",
        "            return data_format((\" \").join(data[(data.loc[strt,'x1'] < data['x0']) & (strt_line == data['line'])]['text']),key['type'])\n",
        "        else:\n",
        "          return data_format((\" \").join(data[(data.loc[strt,'x1'] < data['x0']) & (data.loc[end,'x0'] > data['x1'])  & (strt_line == data['line'])]['text']),key[\"type\"])\n",
        "    # else:\n",
        "    #     #print(key)\n",
        "    #     return get_table_structure_data(data[(end_line > data['line']) & (strt_line <= data['line'])],key,True)"
      ],
      "execution_count": 8,
      "outputs": []
    },
    {
      "cell_type": "code",
      "metadata": {
        "id": "xncTIrrAbDxf",
        "colab_type": "code",
        "colab": {}
      },
      "source": [
        "\"\"\"\n",
        "Convert the types of info field as given in yaml file\n",
        "\"\"\"\n",
        "def data_format(x,frmt):\n",
        "    try:\n",
        "        if frmt == \"float\":\n",
        "            return float(x)\n",
        "        elif frmt == \"int\":\n",
        "            return int(x) \n",
        "        elif frmt == 'date':\n",
        "            return parser.parse(x).isoformat()\n",
        "        else:\n",
        "            return str(x)  \n",
        "    except:\n",
        "        return str(x)"
      ],
      "execution_count": 9,
      "outputs": []
    },
    {
      "cell_type": "code",
      "metadata": {
        "id": "q_z3cQ9nbGPO",
        "colab_type": "code",
        "colab": {}
      },
      "source": [
        "\"\"\"\n",
        "return key which has particular value (used in Pipline_for_get_complete_row function)\n",
        "\"\"\"\n",
        "def get_key(my_dict,val): \n",
        "    for key, value in my_dict.items(): \n",
        "        if val == value: \n",
        "            return key "
      ],
      "execution_count": 10,
      "outputs": []
    },
    {
      "cell_type": "code",
      "metadata": {
        "id": "66Cb3QeRbKAQ",
        "colab_type": "code",
        "colab": {}
      },
      "source": [
        "\"\"\"\n",
        "This function is use to convert fetched table as given in images \n",
        "\"\"\"\n",
        "def get_complete_row(df,key):\n",
        "    restructure_data = {new_list: [] for new_list in df.columns}\n",
        "    for index,row in df.iterrows():\n",
        "        try:\n",
        "            if row[key] != \"\":\n",
        "                for i in df.columns:\n",
        "                    restructure_data[i].append(row[i])\n",
        "            else:\n",
        "                for i in df.columns:\n",
        "                    restructure_data[i] = restructure_data[i][:-1] + [restructure_data[i][-1] + row[i]]\n",
        "        except:\n",
        "            pass\n",
        "    return restructure_data"
      ],
      "execution_count": 11,
      "outputs": []
    },
    {
      "cell_type": "code",
      "metadata": {
        "id": "bjaoCYF2bM_d",
        "colab_type": "code",
        "colab": {}
      },
      "source": [
        "\"\"\"\n",
        "input -> raw table data (unformatted)\n",
        "output -> same format tabe as in image\n",
        "function use-> get_key(), get_complete_row()\n",
        "\"\"\"\n",
        "def Pipline_for_get_complete_row(table_data):\n",
        "    df = pd.DataFrame(table_data)\n",
        "    tmp = {new_list: len(list(filter(lambda x: x != \"\", df[new_list]))) for new_list in df.columns}\n",
        "    val = Counter(list(tmp.values())).most_common(1)[0][0]\n",
        "    key = get_key(tmp,val)\n",
        "    updated_table_data = get_complete_row(df,key)\n",
        "    return updated_table_data"
      ],
      "execution_count": 12,
      "outputs": []
    },
    {
      "cell_type": "code",
      "metadata": {
        "id": "BAV4mrYMbQ2x",
        "colab_type": "code",
        "colab": {}
      },
      "source": [
        "\"\"\"\n",
        "This function takes google vision data, and extract the table data (unformatted)\n",
        "\"\"\"\n",
        "def get_table_structure_data(data,key,moveable_flag):\n",
        "    if moveable_flag == True:\n",
        "        df = data\n",
        "    else:\n",
        "        #print(data)\n",
        "        index = data.loc[data[data['text'].astype(str).str.contains(key['end'], case=False) & (data['y0'] > key['y0'])].index.values[0],'line']\n",
        "        df = data[(key['x0'] < data['centerx']) & (data['centerx'] < key['x1']) & (key['y0'] < data['centery']) & (data['line'] < index)]\n",
        "    #print(df,\"-->\",data[data['text'].str.contains(key['end'], case=False) & (data['y0'] > key['y0'])],index)\n",
        "    key_list = list(set(list(key.keys()))-set(['x0','x1','y0','end','start']))\n",
        "    table_data = {new_list: [] for new_list in key_list}\n",
        "    #print(df) \n",
        "    for i in key_list:\n",
        "        #print(i)\n",
        "        flag = False\n",
        "        for k in list(set(list(df['line']))):\n",
        "            temp_df = df[(df['line']==k) & (key[i]['x0'] < df['centerx']) & (key[i]['x1'] > df['centerx'])]\n",
        "            if flag:\n",
        "                #print(key[i][\"type\"])\n",
        "                table_data[i].append((\" \").join(temp_df['text']))\n",
        "            flag = True\n",
        "    structure_table = Pipline_for_get_complete_row(table_data)\n",
        "    type_mapping = {i:key[i]['type'] for i in key.keys() if type(key[i]) == dict}\n",
        "    updated_structure_table = {i:[data_format(x,type_mapping[i]) for x in structure_table[i]] for i in structure_table.keys()}\n",
        "    return updated_structure_table"
      ],
      "execution_count": 13,
      "outputs": []
    },
    {
      "cell_type": "code",
      "metadata": {
        "id": "WUgXnio8tIBh",
        "colab_type": "code",
        "colab": {}
      },
      "source": [
        "\"\"\"\n",
        "input -> folder path in which images and config yaml file is stored\n",
        "output-> will extract all info's of field that are mention in yaml file\n",
        "\"\"\"\n",
        "def get_invoice_data_v1(path,jsonfile, image):\n",
        "  # if imagefiles==None:\n",
        "  #   files = list(set(os.listdir(path))-set([jsonfile]))\n",
        "  # else:\n",
        "  #   files = [path+imagefile for imagefile in imagefiles]\n",
        "    #print(files)\n",
        "    \n",
        "    \n",
        "  data = []\n",
        "  t=[]\n",
        "  # for file in files:\n",
        "  with open(os.path.join(path,jsonfile),'r') as f:\n",
        "    mapping = json.load(f)\n",
        "  #print(mapping)\n",
        "  temp_df = detect_text_v1(image)\n",
        "  print(temp_df)\n",
        "  tmp_dict = {}\n",
        "  inTableMapping={}\n",
        "  for k in mapping.keys():\n",
        "    print(k)\n",
        "    if mapping[k]['isTable'] == 'True' and  mapping[k]['moveable'] == 'False' :\n",
        "      #print(k)\n",
        "      mapping[k].pop('moveable')\n",
        "      mapping[k].pop('isTable')\n",
        "      tmp_dict[k] = get_table_structure_data(get_sequence_data(temp_df),mapping[k],False)\n",
        "    elif mapping[k]['isTable'] == 'True' and  mapping[k]['moveable'] == 'True' :\n",
        "      mapping[k].pop('moveable')\n",
        "      mapping[k].pop('isTable')\n",
        "      tmp_dict[k] = get_table_structure_data(get_sequence_data(temp_df),mapping[k],True)\n",
        "    elif mapping[k]['isTable'] == 'False' and  mapping[k]['moveable'] == 'False' :\n",
        "      #print(k)\n",
        "      #mapping[k].pop('moveable')\n",
        "      #mapping[k].pop('isTable')\n",
        "      filter_data = temp_df[(mapping[k]['x0'] < temp_df['centerx']) & (temp_df['centerx'] < mapping[k]['x1']) & (mapping[k]['y0'] < temp_df['centery']) & (temp_df['centery'] < mapping[k]['y1'])].sort_values(by='x0')\n",
        "      tmp_dict[k] = data_format((\" \").join(get_sequence_data(filter_data)['text']),mapping[k][\"type\"])\n",
        "    elif mapping[k]['isTable'] == 'False' and  mapping[k]['moveable'] == 'True' :\n",
        "      #print(k)\n",
        "      tmp_dict[k] = get_moveable_field_data(get_sequence_data(temp_df),mapping[k],False)\n",
        "  data.append(tmp_dict)\n",
        "  return data\n",
        "    \n",
        "    "
      ],
      "execution_count": 28,
      "outputs": []
    },
    {
      "cell_type": "code",
      "metadata": {
        "id": "1yXpbecakJ1X",
        "colab_type": "code",
        "colab": {}
      },
      "source": [
        "def getfileurllisttoprocess(bucketname,foldername, filename = ''):\n",
        "    # how to get all files as list\n",
        "    client = storage.Client()\n",
        "    fileurllisttoprocess =[]\n",
        "    input_path_detail =[]\n",
        "    for blobnames in client.list_blobs(bucketname, prefix= getprefix(foldername,filename) ):\n",
        "        blobfile = str(blobnames).split(', ')[1]\n",
        "#         print(blobnames)\n",
        "        input_path_url = r'https://storage.cloud.google.com/'+bucketname+'/' +blobfile\n",
        "        input_path_url = requote_uri(input_path_url)\n",
        "        input_path_detail.append([input_path_url,bucketname,blobfile])\n",
        "        fileurllisttoprocess.append(input_path_detail)\n",
        "    return fileurllisttoprocess"
      ],
      "execution_count": 15,
      "outputs": []
    },
    {
      "cell_type": "code",
      "metadata": {
        "id": "A2fBInhxkNln",
        "colab_type": "code",
        "colab": {}
      },
      "source": [
        "def getprefix(foldername,filename):\n",
        "    if filename == '':\n",
        "        customprefix= foldername\n",
        "    else:\n",
        "        customprefix= foldername + '/'+ filename\n",
        "    return customprefix"
      ],
      "execution_count": 16,
      "outputs": []
    },
    {
      "cell_type": "code",
      "metadata": {
        "id": "1nTvhMlVbsZb",
        "colab_type": "code",
        "colab": {}
      },
      "source": [
        "def getImg():\n",
        "  urllist = getfileurllisttoprocess('auto-invoicing-dev','test_datasciencecode')\n",
        "  for i in urllist:\n",
        "      inmemoryfile = getbufferofblog(i[0][1],i[1][2])\n",
        "      #print(inmemoryfile)\n",
        "      #image = Image.open(io.BytesIO(inmemoryfile))\n",
        "      print(get_invoice_data_v1('/content/datasets/Mcmaster','config.json',inmemoryfile))"
      ],
      "execution_count": 31,
      "outputs": []
    },
    {
      "cell_type": "code",
      "metadata": {
        "id": "ibLkuI5tkA0R",
        "colab_type": "code",
        "colab": {
          "base_uri": "https://localhost:8080/",
          "height": 1000
        },
        "outputId": "8ea3c7ff-e803-4194-ede2-582caf1d7695"
      },
      "source": [
        "getImg()"
      ],
      "execution_count": 32,
      "outputs": [
        {
          "output_type": "stream",
          "text": [
            "               text    x0    y0    x1    y1  centerx  centery\n",
            "0    MCMASTER-CARR.   104    48   663   123      383       85\n",
            "1          MMASTCAR   112    51   157    56      134       53\n",
            "2           CATALOG   121    72   150    79      135       75\n",
            "3           Invoice  1396    82  1597   131     1496      106\n",
            "4      630-600-3600   101   154   253   172      177      163\n",
            "..              ...   ...   ...   ...   ...      ...      ...\n",
            "132         Company   925  2104  1029  2127      977     2115\n",
            "133            Page  1474  2104  1528  2126     1501     2115\n",
            "134               1  1540  2105  1545  2122     1542     2113\n",
            "135              of  1558  2104  1577  2121     1567     2112\n",
            "136               1  1588  2104  1594  2121     1591     2112\n",
            "\n",
            "[137 rows x 7 columns]\n",
            "Invoice Number\n",
            "Invoive Date\n",
            "total amount\n",
            "table\n",
            "subtotal\n",
            "tax\n",
            "[{'Invoice Number': 38039914, 'Invoive Date': '2020-04-13T00:00:00', 'total amount': '', 'table': {'line': ['1 7141T41'], 'ordered': ['4Еach'], 'shiped': [4], 'Product': ['Oven Cleaner, 18 oz. Aerosol Can'], 'Total': [23.56], 'balance': [''], 'Price': ['5.89Еach']}, 'subtotal': 23.56, 'tax': 1.88}]\n",
            "               text    x0    y0    x1    y1  centerx  centery\n",
            "0    MCMASTER-CARR.   104    48   663   123      383       85\n",
            "1          MMASTCAR   112    51   157    56      134       53\n",
            "2           CATALOG   121    72   150    79      135       75\n",
            "3           Invoice  1396    82  1597   131     1496      106\n",
            "4      630-600-3600   101   154   253   172      177      163\n",
            "..              ...   ...   ...   ...   ...      ...      ...\n",
            "132         Company   925  2104  1029  2127      977     2115\n",
            "133            Page  1474  2104  1528  2126     1501     2115\n",
            "134               1  1540  2105  1545  2122     1542     2113\n",
            "135              of  1558  2104  1577  2121     1567     2112\n",
            "136               1  1588  2104  1594  2121     1591     2112\n",
            "\n",
            "[137 rows x 7 columns]\n",
            "Invoice Number\n",
            "Invoive Date\n",
            "total amount\n",
            "table\n",
            "subtotal\n",
            "tax\n",
            "[{'Invoice Number': 38039914, 'Invoive Date': '2020-04-13T00:00:00', 'total amount': '', 'table': {'line': ['1 7141T41'], 'ordered': ['4Еach'], 'shiped': [4], 'Product': ['Oven Cleaner, 18 oz. Aerosol Can'], 'Total': [23.56], 'balance': [''], 'Price': ['5.89Еach']}, 'subtotal': 23.56, 'tax': 1.88}]\n",
            "               text    x0    y0    x1    y1  centerx  centery\n",
            "0    MCMASTER-CARR.   104    48   663   123      383       85\n",
            "1          MMASTCAR   112    51   157    56      134       53\n",
            "2           CATALOG   121    72   150    79      135       75\n",
            "3           Invoice  1396    82  1597   131     1496      106\n",
            "4      630-600-3600   101   154   253   172      177      163\n",
            "..              ...   ...   ...   ...   ...      ...      ...\n",
            "132         Company   925  2104  1029  2127      977     2115\n",
            "133            Page  1474  2104  1528  2126     1501     2115\n",
            "134               1  1540  2105  1545  2122     1542     2113\n",
            "135              of  1558  2104  1577  2121     1567     2112\n",
            "136               1  1588  2104  1594  2121     1591     2112\n",
            "\n",
            "[137 rows x 7 columns]\n",
            "Invoice Number\n",
            "Invoive Date\n",
            "total amount\n",
            "table\n",
            "subtotal\n",
            "tax\n",
            "[{'Invoice Number': 38039914, 'Invoive Date': '2020-04-13T00:00:00', 'total amount': '', 'table': {'line': ['1 7141T41'], 'ordered': ['4Еach'], 'shiped': [4], 'Product': ['Oven Cleaner, 18 oz. Aerosol Can'], 'Total': [23.56], 'balance': [''], 'Price': ['5.89Еach']}, 'subtotal': 23.56, 'tax': 1.88}]\n"
          ],
          "name": "stdout"
        }
      ]
    },
    {
      "cell_type": "code",
      "metadata": {
        "id": "mNcyrymtserC",
        "colab_type": "code",
        "colab": {
          "base_uri": "https://localhost:8080/",
          "height": 496
        },
        "outputId": "d4013c64-77ed-4007-a026-4bf1a0b32148"
      },
      "source": [
        "urllist = getfileurllisttoprocess('auto-invoicing-dev','test_datasciencecode')\n",
        "urllist"
      ],
      "execution_count": 33,
      "outputs": [
        {
          "output_type": "execute_result",
          "data": {
            "text/plain": [
              "[[['https://storage.cloud.google.com/auto-invoicing-dev/test_datasciencecode/',\n",
              "   'auto-invoicing-dev',\n",
              "   'test_datasciencecode/'],\n",
              "  ['https://storage.cloud.google.com/auto-invoicing-dev/test_datasciencecode/Invoice%2038039914%20for%20PO%204520-1.jpg',\n",
              "   'auto-invoicing-dev',\n",
              "   'test_datasciencecode/Invoice 38039914 for PO 4520-1.jpg'],\n",
              "  ['https://storage.cloud.google.com/auto-invoicing-dev/test_datasciencecode/Invoice%2038105146%20for%20PO%20220020-1.jpg',\n",
              "   'auto-invoicing-dev',\n",
              "   'test_datasciencecode/Invoice 38105146 for PO 220020-1.jpg']],\n",
              " [['https://storage.cloud.google.com/auto-invoicing-dev/test_datasciencecode/',\n",
              "   'auto-invoicing-dev',\n",
              "   'test_datasciencecode/'],\n",
              "  ['https://storage.cloud.google.com/auto-invoicing-dev/test_datasciencecode/Invoice%2038039914%20for%20PO%204520-1.jpg',\n",
              "   'auto-invoicing-dev',\n",
              "   'test_datasciencecode/Invoice 38039914 for PO 4520-1.jpg'],\n",
              "  ['https://storage.cloud.google.com/auto-invoicing-dev/test_datasciencecode/Invoice%2038105146%20for%20PO%20220020-1.jpg',\n",
              "   'auto-invoicing-dev',\n",
              "   'test_datasciencecode/Invoice 38105146 for PO 220020-1.jpg']],\n",
              " [['https://storage.cloud.google.com/auto-invoicing-dev/test_datasciencecode/',\n",
              "   'auto-invoicing-dev',\n",
              "   'test_datasciencecode/'],\n",
              "  ['https://storage.cloud.google.com/auto-invoicing-dev/test_datasciencecode/Invoice%2038039914%20for%20PO%204520-1.jpg',\n",
              "   'auto-invoicing-dev',\n",
              "   'test_datasciencecode/Invoice 38039914 for PO 4520-1.jpg'],\n",
              "  ['https://storage.cloud.google.com/auto-invoicing-dev/test_datasciencecode/Invoice%2038105146%20for%20PO%20220020-1.jpg',\n",
              "   'auto-invoicing-dev',\n",
              "   'test_datasciencecode/Invoice 38105146 for PO 220020-1.jpg']]]"
            ]
          },
          "metadata": {
            "tags": []
          },
          "execution_count": 33
        }
      ]
    },
    {
      "cell_type": "code",
      "metadata": {
        "id": "YQ_m4anesw0P",
        "colab_type": "code",
        "colab": {
          "base_uri": "https://localhost:8080/",
          "height": 408
        },
        "outputId": "7c85b3c8-ec83-453a-a660-49c6a6b3c927"
      },
      "source": [
        "!unzip '/content/drive/My Drive/datasets.zip'"
      ],
      "execution_count": 19,
      "outputs": [
        {
          "output_type": "stream",
          "text": [
            "Archive:  /content/drive/My Drive/datasets.zip\n",
            "   creating: datasets/\n",
            "   creating: datasets/flameproof/\n",
            "  inflating: datasets/flameproof/config.yml  \n",
            "  inflating: datasets/flameproof/Invoice (3)-1.jpg  \n",
            "  inflating: datasets/flameproof/Invoice (4)-1.jpg  \n",
            "  inflating: datasets/flameproof/flameproof.csv  \n",
            "  inflating: datasets/flameproof/Invoice-1.jpg  \n",
            "   creating: datasets/Mcmaster/\n",
            "  inflating: datasets/Mcmaster/config.yml  \n",
            "  inflating: datasets/Mcmaster/Invoice 38105146 for PO 220020-1.jpg  \n",
            "  inflating: datasets/Mcmaster/Invoice 38039914 for PO 4520-1.jpg  \n",
            "  inflating: datasets/Mcmaster/Mcmaster.csv  \n",
            "   creating: datasets/excel/\n",
            "  inflating: datasets/excel/config.yml  \n",
            "  inflating: datasets/excel/Inv_38449_from_Excel_Disposal_LLC_8496-1.jpg  \n",
            "  inflating: datasets/excel/Inv_39439_from_Excel_Disposal_LLC_8680-1.jpg  \n",
            "  inflating: datasets/excel/excel.csv  \n",
            "   creating: datasets/walnut/\n",
            "  inflating: datasets/walnut/config.yml  \n",
            "  inflating: datasets/walnut/IN125ADJ-1.jpg  \n",
            "  inflating: datasets/walnut/IN127BCQ-1.jpg  \n",
            "  inflating: datasets/walnut/walnut.csv  \n"
          ],
          "name": "stdout"
        }
      ]
    },
    {
      "cell_type": "code",
      "metadata": {
        "id": "oGxJH0pzbiB-",
        "colab_type": "code",
        "colab": {}
      },
      "source": [
        ""
      ],
      "execution_count": 19,
      "outputs": []
    }
  ]
}