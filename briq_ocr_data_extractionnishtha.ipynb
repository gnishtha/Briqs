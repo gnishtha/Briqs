{
  "nbformat": 4,
  "nbformat_minor": 0,
  "metadata": {
    "kernelspec": {
      "display_name": "Python 3",
      "language": "python",
      "name": "python3"
    },
    "language_info": {
      "codemirror_mode": {
        "name": "ipython",
        "version": 3
      },
      "file_extension": ".py",
      "mimetype": "text/x-python",
      "name": "python",
      "nbconvert_exporter": "python",
      "pygments_lexer": "ipython3",
      "version": "3.6.9"
    },
    "colab": {
      "name": "briq_ocr_data_extractionnishtha.ipynb",
      "provenance": [],
      "collapsed_sections": [],
      "include_colab_link": true
    }
  },
  "cells": [
    {
      "cell_type": "markdown",
      "metadata": {
        "id": "view-in-github",
        "colab_type": "text"
      },
      "source": [
        "<a href=\"https://colab.research.google.com/github/gnishtha/Briqs/blob/master/briq_ocr_data_extractionnishtha.ipynb\" target=\"_parent\"><img src=\"https://colab.research.google.com/assets/colab-badge.svg\" alt=\"Open In Colab\"/></a>"
      ]
    },
    {
      "cell_type": "code",
      "metadata": {
        "id": "MRQnWbUPoNpK",
        "colab_type": "code",
        "outputId": "e85f0ca6-78a7-4a14-a600-5c6422b49198",
        "colab": {
          "base_uri": "https://localhost:8080/",
          "height": 122
        }
      },
      "source": [
        "from google.colab import drive\n",
        "drive.mount('/content/drive')"
      ],
      "execution_count": 1,
      "outputs": [
        {
          "output_type": "stream",
          "text": [
            "Go to this URL in a browser: https://accounts.google.com/o/oauth2/auth?client_id=947318989803-6bn6qk8qdgf4n4g3pfee6491hc0brc4i.apps.googleusercontent.com&redirect_uri=urn%3aietf%3awg%3aoauth%3a2.0%3aoob&response_type=code&scope=email%20https%3a%2f%2fwww.googleapis.com%2fauth%2fdocs.test%20https%3a%2f%2fwww.googleapis.com%2fauth%2fdrive%20https%3a%2f%2fwww.googleapis.com%2fauth%2fdrive.photos.readonly%20https%3a%2f%2fwww.googleapis.com%2fauth%2fpeopleapi.readonly\n",
            "\n",
            "Enter your authorization code:\n",
            "··········\n",
            "Mounted at /content/drive\n"
          ],
          "name": "stdout"
        }
      ]
    },
    {
      "cell_type": "code",
      "metadata": {
        "id": "CTzww1Qcpr9_",
        "colab_type": "code",
        "outputId": "5875e4ea-6050-41c5-d7ea-4b8eb145133c",
        "colab": {
          "base_uri": "https://localhost:8080/",
          "height": 496
        }
      },
      "source": [
        "!pip install google-cloud-vision"
      ],
      "execution_count": 2,
      "outputs": [
        {
          "output_type": "stream",
          "text": [
            "Collecting google-cloud-vision\n",
            "\u001b[?25l  Downloading https://files.pythonhosted.org/packages/0d/7f/e10d602c2dc3f749f1b78377a3357790f1da71b28e7da9e5bc20b3a9bd40/google_cloud_vision-1.0.0-py2.py3-none-any.whl (435kB)\n",
            "\r\u001b[K     |▊                               | 10kB 16.5MB/s eta 0:00:01\r\u001b[K     |█▌                              | 20kB 1.8MB/s eta 0:00:01\r\u001b[K     |██▎                             | 30kB 2.1MB/s eta 0:00:01\r\u001b[K     |███                             | 40kB 2.4MB/s eta 0:00:01\r\u001b[K     |███▊                            | 51kB 2.1MB/s eta 0:00:01\r\u001b[K     |████▌                           | 61kB 2.3MB/s eta 0:00:01\r\u001b[K     |█████▎                          | 71kB 2.6MB/s eta 0:00:01\r\u001b[K     |██████                          | 81kB 2.7MB/s eta 0:00:01\r\u001b[K     |██████▉                         | 92kB 2.9MB/s eta 0:00:01\r\u001b[K     |███████▌                        | 102kB 2.8MB/s eta 0:00:01\r\u001b[K     |████████▎                       | 112kB 2.8MB/s eta 0:00:01\r\u001b[K     |█████████                       | 122kB 2.8MB/s eta 0:00:01\r\u001b[K     |█████████▉                      | 133kB 2.8MB/s eta 0:00:01\r\u001b[K     |██████████▌                     | 143kB 2.8MB/s eta 0:00:01\r\u001b[K     |███████████▎                    | 153kB 2.8MB/s eta 0:00:01\r\u001b[K     |████████████                    | 163kB 2.8MB/s eta 0:00:01\r\u001b[K     |████████████▉                   | 174kB 2.8MB/s eta 0:00:01\r\u001b[K     |█████████████▋                  | 184kB 2.8MB/s eta 0:00:01\r\u001b[K     |██████████████▎                 | 194kB 2.8MB/s eta 0:00:01\r\u001b[K     |███████████████                 | 204kB 2.8MB/s eta 0:00:01\r\u001b[K     |███████████████▉                | 215kB 2.8MB/s eta 0:00:01\r\u001b[K     |████████████████▋               | 225kB 2.8MB/s eta 0:00:01\r\u001b[K     |█████████████████▎              | 235kB 2.8MB/s eta 0:00:01\r\u001b[K     |██████████████████              | 245kB 2.8MB/s eta 0:00:01\r\u001b[K     |██████████████████▉             | 256kB 2.8MB/s eta 0:00:01\r\u001b[K     |███████████████████▋            | 266kB 2.8MB/s eta 0:00:01\r\u001b[K     |████████████████████▍           | 276kB 2.8MB/s eta 0:00:01\r\u001b[K     |█████████████████████           | 286kB 2.8MB/s eta 0:00:01\r\u001b[K     |█████████████████████▉          | 296kB 2.8MB/s eta 0:00:01\r\u001b[K     |██████████████████████▋         | 307kB 2.8MB/s eta 0:00:01\r\u001b[K     |███████████████████████▍        | 317kB 2.8MB/s eta 0:00:01\r\u001b[K     |████████████████████████        | 327kB 2.8MB/s eta 0:00:01\r\u001b[K     |████████████████████████▉       | 337kB 2.8MB/s eta 0:00:01\r\u001b[K     |█████████████████████████▋      | 348kB 2.8MB/s eta 0:00:01\r\u001b[K     |██████████████████████████▍     | 358kB 2.8MB/s eta 0:00:01\r\u001b[K     |███████████████████████████▏    | 368kB 2.8MB/s eta 0:00:01\r\u001b[K     |███████████████████████████▉    | 378kB 2.8MB/s eta 0:00:01\r\u001b[K     |████████████████████████████▋   | 389kB 2.8MB/s eta 0:00:01\r\u001b[K     |█████████████████████████████▍  | 399kB 2.8MB/s eta 0:00:01\r\u001b[K     |██████████████████████████████▏ | 409kB 2.8MB/s eta 0:00:01\r\u001b[K     |██████████████████████████████▉ | 419kB 2.8MB/s eta 0:00:01\r\u001b[K     |███████████████████████████████▋| 430kB 2.8MB/s eta 0:00:01\r\u001b[K     |████████████████████████████████| 440kB 2.8MB/s \n",
            "\u001b[?25hRequirement already satisfied: google-api-core[grpc]<2.0.0dev,>=1.14.0 in /usr/local/lib/python3.6/dist-packages (from google-cloud-vision) (1.16.0)\n",
            "Requirement already satisfied: google-auth<2.0dev,>=0.4.0 in /usr/local/lib/python3.6/dist-packages (from google-api-core[grpc]<2.0.0dev,>=1.14.0->google-cloud-vision) (1.7.2)\n",
            "Requirement already satisfied: protobuf>=3.4.0 in /usr/local/lib/python3.6/dist-packages (from google-api-core[grpc]<2.0.0dev,>=1.14.0->google-cloud-vision) (3.10.0)\n",
            "Requirement already satisfied: pytz in /usr/local/lib/python3.6/dist-packages (from google-api-core[grpc]<2.0.0dev,>=1.14.0->google-cloud-vision) (2018.9)\n",
            "Requirement already satisfied: googleapis-common-protos<2.0dev,>=1.6.0 in /usr/local/lib/python3.6/dist-packages (from google-api-core[grpc]<2.0.0dev,>=1.14.0->google-cloud-vision) (1.52.0)\n",
            "Requirement already satisfied: setuptools>=34.0.0 in /usr/local/lib/python3.6/dist-packages (from google-api-core[grpc]<2.0.0dev,>=1.14.0->google-cloud-vision) (47.1.1)\n",
            "Requirement already satisfied: requests<3.0.0dev,>=2.18.0 in /usr/local/lib/python3.6/dist-packages (from google-api-core[grpc]<2.0.0dev,>=1.14.0->google-cloud-vision) (2.23.0)\n",
            "Requirement already satisfied: six>=1.10.0 in /usr/local/lib/python3.6/dist-packages (from google-api-core[grpc]<2.0.0dev,>=1.14.0->google-cloud-vision) (1.12.0)\n",
            "Requirement already satisfied: grpcio<2.0dev,>=1.8.2; extra == \"grpc\" in /usr/local/lib/python3.6/dist-packages (from google-api-core[grpc]<2.0.0dev,>=1.14.0->google-cloud-vision) (1.29.0)\n",
            "Requirement already satisfied: pyasn1-modules>=0.2.1 in /usr/local/lib/python3.6/dist-packages (from google-auth<2.0dev,>=0.4.0->google-api-core[grpc]<2.0.0dev,>=1.14.0->google-cloud-vision) (0.2.8)\n",
            "Requirement already satisfied: rsa<4.1,>=3.1.4 in /usr/local/lib/python3.6/dist-packages (from google-auth<2.0dev,>=0.4.0->google-api-core[grpc]<2.0.0dev,>=1.14.0->google-cloud-vision) (4.0)\n",
            "Requirement already satisfied: cachetools<3.2,>=2.0.0 in /usr/local/lib/python3.6/dist-packages (from google-auth<2.0dev,>=0.4.0->google-api-core[grpc]<2.0.0dev,>=1.14.0->google-cloud-vision) (3.1.1)\n",
            "Requirement already satisfied: certifi>=2017.4.17 in /usr/local/lib/python3.6/dist-packages (from requests<3.0.0dev,>=2.18.0->google-api-core[grpc]<2.0.0dev,>=1.14.0->google-cloud-vision) (2020.4.5.1)\n",
            "Requirement already satisfied: idna<3,>=2.5 in /usr/local/lib/python3.6/dist-packages (from requests<3.0.0dev,>=2.18.0->google-api-core[grpc]<2.0.0dev,>=1.14.0->google-cloud-vision) (2.9)\n",
            "Requirement already satisfied: urllib3!=1.25.0,!=1.25.1,<1.26,>=1.21.1 in /usr/local/lib/python3.6/dist-packages (from requests<3.0.0dev,>=2.18.0->google-api-core[grpc]<2.0.0dev,>=1.14.0->google-cloud-vision) (1.24.3)\n",
            "Requirement already satisfied: chardet<4,>=3.0.2 in /usr/local/lib/python3.6/dist-packages (from requests<3.0.0dev,>=2.18.0->google-api-core[grpc]<2.0.0dev,>=1.14.0->google-cloud-vision) (3.0.4)\n",
            "Requirement already satisfied: pyasn1<0.5.0,>=0.4.6 in /usr/local/lib/python3.6/dist-packages (from pyasn1-modules>=0.2.1->google-auth<2.0dev,>=0.4.0->google-api-core[grpc]<2.0.0dev,>=1.14.0->google-cloud-vision) (0.4.8)\n",
            "Installing collected packages: google-cloud-vision\n",
            "Successfully installed google-cloud-vision-1.0.0\n"
          ],
          "name": "stdout"
        },
        {
          "output_type": "display_data",
          "data": {
            "application/vnd.colab-display-data+json": {
              "pip_warning": {
                "packages": [
                  "google"
                ]
              }
            }
          },
          "metadata": {
            "tags": []
          }
        }
      ]
    },
    {
      "cell_type": "code",
      "metadata": {
        "id": "VcUq_T1ItHe8",
        "colab_type": "code",
        "outputId": "42a6ad6f-a316-4d1f-ed44-c6aeefb3e7c7",
        "colab": {
          "base_uri": "https://localhost:8080/",
          "height": 513
        }
      },
      "source": [
        "!pip install -U PyYAML"
      ],
      "execution_count": 0,
      "outputs": [
        {
          "output_type": "stream",
          "text": [
            "Error processing line 1 of /usr/local/lib/python3.6/dist-packages/vision-1.0.0-py3.6-nspkg.pth:\n",
            "\n",
            "  Traceback (most recent call last):\n",
            "    File \"/usr/lib/python3.6/site.py\", line 174, in addpackage\n",
            "      exec(line)\n",
            "    File \"<string>\", line 1, in <module>\n",
            "    File \"<frozen importlib._bootstrap>\", line 568, in module_from_spec\n",
            "  AttributeError: 'NoneType' object has no attribute 'loader'\n",
            "\n",
            "Remainder of file ignored\n",
            "Collecting PyYAML\n",
            "\u001b[?25l  Downloading https://files.pythonhosted.org/packages/64/c2/b80047c7ac2478f9501676c988a5411ed5572f35d1beff9cae07d321512c/PyYAML-5.3.1.tar.gz (269kB)\n",
            "\u001b[K     |████████████████████████████████| 276kB 2.8MB/s \n",
            "\u001b[?25hBuilding wheels for collected packages: PyYAML\n",
            "  Building wheel for PyYAML (setup.py) ... \u001b[?25l\u001b[?25hdone\n",
            "  Created wheel for PyYAML: filename=PyYAML-5.3.1-cp36-cp36m-linux_x86_64.whl size=44621 sha256=8131e4aea669a6c7a231f9dc0e5d46730b11043e8272bf19a14c63c77920fa10\n",
            "  Stored in directory: /root/.cache/pip/wheels/a7/c1/ea/cf5bd31012e735dc1dfea3131a2d5eae7978b251083d6247bd\n",
            "Successfully built PyYAML\n",
            "Installing collected packages: PyYAML\n",
            "  Found existing installation: PyYAML 3.13\n",
            "    Uninstalling PyYAML-3.13:\n",
            "      Successfully uninstalled PyYAML-3.13\n",
            "Successfully installed PyYAML-5.3.1\n"
          ],
          "name": "stdout"
        },
        {
          "output_type": "display_data",
          "data": {
            "application/vnd.colab-display-data+json": {
              "pip_warning": {
                "packages": [
                  "yaml"
                ]
              }
            }
          },
          "metadata": {
            "tags": []
          }
        }
      ]
    },
    {
      "cell_type": "code",
      "metadata": {
        "id": "_16wgS4ftoTP",
        "colab_type": "code",
        "colab": {}
      },
      "source": [
        "import os\n",
        "os.environ[\"GOOGLE_APPLICATION_CREDENTIALS\"]=\"/content/briq/briq-chronicle-production-394361177ce1.json\""
      ],
      "execution_count": 0,
      "outputs": []
    },
    {
      "cell_type": "code",
      "metadata": {
        "id": "yoz_LCOuiQkH",
        "colab_type": "code",
        "colab": {}
      },
      "source": [
        "import io\n",
        "import os\n",
        "from google.cloud import vision\n",
        "from google.cloud.vision import types\n",
        "import pandas as pd\n",
        "import json\n",
        "import cv2\n",
        "import matplotlib.pyplot as plt\n",
        "from collections import Counter\n",
        "from dateutil import parser\n",
        "import re\n",
        "from google.cloud import storage\n",
        "from google.protobuf import json_format"
      ],
      "execution_count": 0,
      "outputs": []
    },
    {
      "cell_type": "code",
      "metadata": {
        "id": "Txbu3tSCiQkQ",
        "colab_type": "code",
        "colab": {}
      },
      "source": [
        "def detect_text_v1(path):\n",
        "    \"\"\"Detects text in the file. Using google vision api (output will be in dataframe format)\"\"\"\n",
        "    client = vision.ImageAnnotatorClient()\n",
        "\n",
        "    with io.open(path, 'rb') as image_file:\n",
        "        content = image_file.read()\n",
        "\n",
        "    image = vision.types.Image(content=content)\n",
        "\n",
        "    response = client.text_detection(image=image)\n",
        "    texts = response.text_annotations\n",
        "    txt = []\n",
        "    x0 = []\n",
        "    x1 = []\n",
        "    y0 = []\n",
        "    y1 = []\n",
        "    centerx = []\n",
        "    centery = []\n",
        "    for text in texts[1:]:\n",
        "        #print('\\n\"{}\"'.format(text.description))\n",
        "        txt.append(text.description)\n",
        "        vertices = ([(vertex.x, vertex.y)\n",
        "                    for vertex in text.bounding_poly.vertices])\n",
        "        x0.append(vertices[0][0]) \n",
        "        x1.append(vertices[1][0])\n",
        "        y0.append(vertices[0][1])\n",
        "        y1.append(vertices[2][1])\n",
        "        centerx.append(int((vertices[0][0]+vertices[1][0])/2))\n",
        "        centery.append(int((vertices[0][1]+vertices[2][1])/2))\n",
        "        #print('bounds: ',(vertices))\n",
        "    return pd.DataFrame({\"text\":txt,\"x0\":x0,\"y0\":y0,\"x1\":x1,\"y1\":y1,\"centerx\":centerx,\"centery\":centery})\n",
        "    if response.error.message:\n",
        "        raise Exception(\n",
        "            '{}\\nFor more info on error messages, check: '\n",
        "            'https://cloud.google.com/apis/design/errors'.format(\n",
        "                response.error.message))"
      ],
      "execution_count": 0,
      "outputs": []
    },
    {
      "cell_type": "code",
      "metadata": {
        "id": "nRExQ1AhiQkV",
        "colab_type": "code",
        "colab": {}
      },
      "source": [
        "\"\"\"Take dataframe as input and add column line for each words  \"\"\"\n",
        "def get_sequence_data(data):\n",
        "    df = data.sort_values(by = [\"centery\"])\n",
        "    lst = list(df['centery'])\n",
        "    count = 0\n",
        "    line = []\n",
        "    for i in range(len(lst)):\n",
        "        if i != len(lst)-1:\n",
        "            if lst[i+1] - lst[i] > 8:\n",
        "                line.append(count)\n",
        "                count += 1\n",
        "            else:\n",
        "                line.append(count)\n",
        "        else:\n",
        "            line.append(count)\n",
        "    df['line'] = line\n",
        "    df = df.sort_values(by=['line','x0'])\n",
        "    df.reset_index(drop=True, inplace=True)\n",
        "    #print(\"xxx\")\n",
        "    #print(df)\n",
        "    return df"
      ],
      "execution_count": 0,
      "outputs": []
    },
    {
      "cell_type": "code",
      "metadata": {
        "id": "aqB-4sQWiQkY",
        "colab_type": "code",
        "colab": {}
      },
      "source": [
        "\"\"\"\n",
        "input -> start_text of and end_text of field\n",
        "output -> return info of field (for moveable data)\n",
        "\"\"\"\n",
        "def get_moveable_field_data(data,key,field):\n",
        "    start_data = data[data['text'].str.contains(key['start'], case=False)]\n",
        "    end_data = data[data['text'].str.contains(key['end'], case=False)]\n",
        "    temp_dct = {}\n",
        "    for ind, row in start_data.iterrows():\n",
        "        temp_dct[str(ind)+\"_\"+str(abs(end_data['line'] - row['line']).idxmin())] = min(abs(end_data['line'] - row['line']))\n",
        "    indxs = min(temp_dct, key=temp_dct.get)\n",
        "    strt = int(indxs.split(\"_\")[0])\n",
        "    end = int(indxs.split(\"_\")[1])\n",
        "    end_line = data.loc[end,'line']\n",
        "    strt_line = data.loc[strt,'line']\n",
        "    if field != \"table\":\n",
        "        if end_line != strt_line:\n",
        "            return data_format((\" \").join(data[(data.loc[strt,'x1'] < data['x0']) & (strt_line == data['line'])]['text']),key['type'])\n",
        "        else:\n",
        "          return data_format((\" \").join(data[(data.loc[strt,'x1'] < data['x0']) & (data.loc[end,'x0'] > data['x1'])  & (strt_line == data['line'])]['text']),key[\"type\"])\n",
        "    else:\n",
        "        #print(key)\n",
        "        return get_table_structure_data(data[(end_line > data['line']) & (strt_line <= data['line'])],key,True)"
      ],
      "execution_count": 0,
      "outputs": []
    },
    {
      "cell_type": "code",
      "metadata": {
        "id": "tIhaNtP9iQke",
        "colab_type": "code",
        "colab": {}
      },
      "source": [
        "\"\"\"\n",
        "Convert the types of info field as given in yaml file\n",
        "\"\"\"\n",
        "def data_format(x,frmt):\n",
        "    try:\n",
        "        if frmt == \"float\":\n",
        "            return float(x)\n",
        "        elif frmt == \"int\":\n",
        "            return int(x) \n",
        "        elif frmt == 'date':\n",
        "            return parser.parse(x).isoformat()\n",
        "        else:\n",
        "            return str(x)  \n",
        "    except:\n",
        "        return str(x)"
      ],
      "execution_count": 0,
      "outputs": []
    },
    {
      "cell_type": "code",
      "metadata": {
        "id": "tuN0iZyIiQki",
        "colab_type": "code",
        "colab": {}
      },
      "source": [
        "\"\"\"\n",
        "return key which has particular value (used in Pipline_for_get_complete_row function)\n",
        "\"\"\"\n",
        "def get_key(my_dict,val): \n",
        "    for key, value in my_dict.items(): \n",
        "        if val == value: \n",
        "            return key "
      ],
      "execution_count": 0,
      "outputs": []
    },
    {
      "cell_type": "code",
      "metadata": {
        "id": "O9QaIL40iQkm",
        "colab_type": "code",
        "colab": {}
      },
      "source": [
        "\"\"\"\n",
        "This function is use to convert fetched table as given in images \n",
        "\"\"\"\n",
        "def get_complete_row(df,key):\n",
        "    restructure_data = {new_list: [] for new_list in df.columns}\n",
        "    for index,row in df.iterrows():\n",
        "        try:\n",
        "            if row[key] != \"\":\n",
        "                for i in df.columns:\n",
        "                    restructure_data[i].append(row[i])\n",
        "            else:\n",
        "                for i in df.columns:\n",
        "                    restructure_data[i] = restructure_data[i][:-1] + [restructure_data[i][-1] + row[i]]\n",
        "        except:\n",
        "            pass\n",
        "    return restructure_data"
      ],
      "execution_count": 0,
      "outputs": []
    },
    {
      "cell_type": "code",
      "metadata": {
        "id": "GrInonTSiQks",
        "colab_type": "code",
        "colab": {}
      },
      "source": [
        "\"\"\"\n",
        "input -> raw table data (unformatted)\n",
        "output -> same format tabe as in image\n",
        "function use-> get_key(), get_complete_row()\n",
        "\"\"\"\n",
        "def Pipline_for_get_complete_row(table_data):\n",
        "    df = pd.DataFrame(table_data)\n",
        "    tmp = {new_list: len(list(filter(lambda x: x != \"\", df[new_list]))) for new_list in df.columns}\n",
        "    val = Counter(list(tmp.values())).most_common(1)[0][0]\n",
        "    key = get_key(tmp,val)\n",
        "    updated_table_data = get_complete_row(df,key)\n",
        "    return updated_table_data"
      ],
      "execution_count": 0,
      "outputs": []
    },
    {
      "cell_type": "code",
      "metadata": {
        "id": "mmUEwQW6iQkv",
        "colab_type": "code",
        "colab": {}
      },
      "source": [
        "\"\"\"\n",
        "This function takes google vision data, and extract the table data (unformatted)\n",
        "\"\"\"\n",
        "def get_table_structure_data(data,key,moveable_flag=False):\n",
        "    if moveable_flag == True:\n",
        "        df = data\n",
        "    else:\n",
        "        index = data.loc[data[data['text'].str.contains(key['end'], case=False) & (data['y0'] > key['y0'])].index.values[0],'line']\n",
        "        df = data[(key['x0'] < data['centerx']) & (data['centerx'] < key['x1']) & (key['y0'] < data['centery']) & (data['line'] < index)]\n",
        "    #print(df,\"-->\",data[data['text'].str.contains(key['end'], case=False) & (data['y0'] > key['y0'])],index)\n",
        "    key_list = list(set(list(key.keys()))-set(['x0','x1','y0','end','start']))\n",
        "    table_data = {new_list: [] for new_list in key_list} \n",
        "    for i in key_list:\n",
        "        flag = False\n",
        "        for k in list(set(list(df['line']))):\n",
        "            temp_df = df[(df['line']==k) & (key[i]['x0'] < df['centerx']) & (key[i]['x1'] > df['centerx'])]\n",
        "            if flag:\n",
        "                #print(key[i][\"type\"])\n",
        "                table_data[i].append((\" \").join(temp_df['text']))\n",
        "            flag = True\n",
        "    structure_table = Pipline_for_get_complete_row(table_data)\n",
        "    type_mapping = {i:key[i]['type'] for i in key.keys() if type(key[i]) == dict}\n",
        "    updated_structure_table = {i:[data_format(x,type_mapping[i]) for x in structure_table[i]] for i in structure_table.keys()}\n",
        "    return updated_structure_table"
      ],
      "execution_count": 0,
      "outputs": []
    },
    {
      "cell_type": "code",
      "metadata": {
        "id": "gaBGt318HDhX",
        "colab_type": "code",
        "colab": {}
      },
      "source": [
        "def get_invoice_data_v1(path):\n",
        "    files = list(set(os.listdir(path))-set(['config.json']))\n",
        "    #print(files)\n",
        "    with open(os.path.join(path,'config.json'),'r') as f:\n",
        "        mapping = json.load(f)\n",
        "    data = []\n",
        "    t=[]\n",
        "    for file in files:\n",
        "        temp_df = detect_text_v1(os.path.join(path,file))\n",
        "        tmp_dict = {\"file\":file}\n",
        "        inTableMapping={}\n",
        "        ntmoveistab = []\n",
        "        movtab = []\n",
        "        ntmovnttab = []\n",
        "        ismovnttab = []\n",
        "        for k in mapping.keys():\n",
        "          if mapping[k]['isTable'] == 'True' and  mapping[k]['moveable'] == 'False' :\n",
        "            print(mapping[k])\n",
        "            mapping[k].pop('moveable')\n",
        "            mapping[k].pop('isTable')\n",
        "            if k=='table':\n",
        "              inTableMapping[k] = mapping[k]\n",
        "            else:\n",
        "              inTableMapping['table'][k]=mapping[k]\n",
        "          "
      ],
      "execution_count": 0,
      "outputs": []
    },
    {
      "cell_type": "code",
      "metadata": {
        "id": "H-0IWCo0iQk0",
        "colab_type": "code",
        "colab": {}
      },
      "source": [
        "\"\"\"\n",
        "input -> folder path in which images and config yaml file is stored\n",
        "output-> will extract all info's of field that are mention in yaml file\n",
        "\"\"\"\n",
        "def get_invoice_data_v1(path):\n",
        "    files = list(set(os.listdir(path))-set(['config.json']))\n",
        "    #print(files)\n",
        "    \n",
        "    data = []\n",
        "    t=[]\n",
        "    \n",
        "    for file in files:\n",
        "        with open(os.path.join(path,'config.json'),'r') as f:\n",
        "          mapping = json.load(f)\n",
        "        temp_df = detect_text_v1(os.path.join(path,file))\n",
        "        tmp_dict = {\"file\":file}\n",
        "        inTableMapping={}\n",
        "        for k in mapping.keys():\n",
        "          if mapping[k]['isTable'] == 'True' and  mapping[k]['moveable'] == 'False' :\n",
        "            mapping[k].pop('moveable')\n",
        "            mapping[k].pop('isTable')\n",
        "            if k=='table':\n",
        "              inTableMapping[k] = mapping[k]\n",
        "            else:\n",
        "              inTableMapping['table'][k]=mapping[k]\n",
        "          elif mapping[k]['isTable'] == 'False' and  mapping[k]['moveable'] == 'False' :\n",
        "            #print(k)\n",
        "            mapping[k].pop('moveable')\n",
        "            mapping[k].pop('isTable')\n",
        "            filter_data = temp_df[(mapping[k]['x0'] < temp_df['centerx']) & (temp_df['centerx'] < mapping[k]['x1']) & (mapping[k]['y0'] < temp_df['centery']) & (temp_df['centery'] < mapping[k]['y1'])].sort_values(by='x0')\n",
        "            tmp_dict[k] = data_format((\" \").join(get_sequence_data(filter_data)['text']),mapping[k][\"type\"])\n",
        "            #print(tmp_dict[k])\n",
        "          elif mapping[k]['isTable'] == 'False' and  mapping[k]['moveable'] == 'True' :\n",
        "            #print(k)\n",
        "            tmp_dict[k] = get_moveable_field_data(get_sequence_data(temp_df),mapping[k],k)\n",
        "            #print(tmp_dict[k])\n",
        "        \n",
        "        tmp_dict['table'] = get_table_structure_data(get_sequence_data(temp_df),inTableMapping['table'])\n",
        "        #print(tmp_dict['table'])\n",
        "        #print(tmp_dict)\n",
        "        data.append(tmp_dict)\n",
        "    return data \n",
        "    \n",
        "    "
      ],
      "execution_count": 0,
      "outputs": []
    },
    {
      "cell_type": "code",
      "metadata": {
        "id": "rq1uBu-liQlA",
        "colab_type": "code",
        "outputId": "8f03badd-37c9-4631-eb42-157ac9fed473",
        "colab": {
          "base_uri": "https://localhost:8080/",
          "height": 493
        }
      },
      "source": [
        "get_invoice_data_v1(\"/content/briq/Mcmaster\")"
      ],
      "execution_count": 222,
      "outputs": [
        {
          "output_type": "execute_result",
          "data": {
            "text/plain": [
              "[{'Invoice Number': 38105146,\n",
              "  'Invoive Date': '2020-04-14T00:00:00',\n",
              "  'file': 'Invoice 38105146 for PO 220020-1.jpg',\n",
              "  'subtotal': 485.02,\n",
              "  'table': {'Price': ['34.18Per Pack', '7.68Еach', '74.31Each'],\n",
              "   'Product': ['Trade No. 18 Precision Knife Blades, Packs of 100',\n",
              "    'Easy-Grip Precision Knife',\n",
              "    'Forged Steel Hoist Ring for Lifting, 3/4\"-10 ThreadSize, 6-7/8\" Overall Height'],\n",
              "   'Total': [34.18, 153.6, 297.24],\n",
              "   'balance': ['', '', ''],\n",
              "   'line': ['1 38995A69', '35515A12', '2994T71'],\n",
              "   'ordered': ['1Рack', '20Each', '4Еach'],\n",
              "   'shiped': [1, 20, 4]},\n",
              "  'tax': 38.8,\n",
              "  'total amount': ''},\n",
              " {'Invoice Number': 38039914,\n",
              "  'Invoive Date': '2020-04-13T00:00:00',\n",
              "  'file': 'Invoice 38039914 for PO 4520-1.jpg',\n",
              "  'subtotal': 23.56,\n",
              "  'table': {'Price': ['5.89Еach'],\n",
              "   'Product': ['Oven Cleaner, 18 oz. Aerosol Can'],\n",
              "   'Total': [23.56],\n",
              "   'balance': [''],\n",
              "   'line': ['1 7141T41'],\n",
              "   'ordered': ['4Еach'],\n",
              "   'shiped': [4]},\n",
              "  'tax': 1.88,\n",
              "  'total amount': ''}]"
            ]
          },
          "metadata": {
            "tags": []
          },
          "execution_count": 222
        }
      ]
    },
    {
      "cell_type": "code",
      "metadata": {
        "id": "IOt4UuZfiQk4",
        "colab_type": "code",
        "outputId": "817dbd19-8dd5-4f3b-d2b2-51de3b9f7557",
        "colab": {
          "base_uri": "https://localhost:8080/",
          "height": 578
        }
      },
      "source": [
        "!unzip '/content/drive/My Drive/briq.zip'"
      ],
      "execution_count": 19,
      "outputs": [
        {
          "output_type": "stream",
          "text": [
            "Archive:  /content/drive/My Drive/briq.zip\n",
            "   creating: briq/\n",
            "   creating: briq/pdf_test/\n",
            "  inflating: briq/pdf_test/Ferguson Batch from Nicki 2020-03-30.pdf_0.jpg  \n",
            "  inflating: briq/pdf_test/Ferguson Batch from Nicki 2020-03-30.pdf_1.jpg  \n",
            "  inflating: briq/pdf_test/Ferguson Batch from Nicki 2020-03-30.pdf_2.jpg  \n",
            "  inflating: briq/pdf_test/Ferguson Batch from Nicki 2020-03-30.pdf_3.jpg  \n",
            "  inflating: briq/pdf_test/Ferguson Batch from Nicki 2020-03-30.pdf_4.jpg  \n",
            "  inflating: briq/pdf_test/Ferguson Batch from Nicki 2020-03-30.pdf_5.jpg  \n",
            "  inflating: briq/pdf_test/Ferguson Batch from Nicki 2020-03-30.pdf_6.jpg  \n",
            "  inflating: briq/pdf_test/Ferguson Batch from Nicki 2020-03-30.pdf_7.jpg  \n",
            "  inflating: briq/pdf_test/Ferguson Batch from Nicki 2020-03-30.pdf_8.jpg  \n",
            "  inflating: briq/pdf_test/Ferguson Batch from Nicki 2020-03-30.pdf_9.jpg  \n",
            "  inflating: briq/pdf_test/Ferguson Batch from Nicki 2020-03-30.pdf_10.jpg  \n",
            "  inflating: briq/pdf_test/Ferguson Batch from Nicki 2020-03-30.pdf_11.jpg  \n",
            "  inflating: briq/pdf_test/Ferguson Batch from Nicki 2020-03-30.pdf_12.jpg  \n",
            "  inflating: briq/pdf_test/Ferguson Batch from Nicki 2020-03-30.pdf_13.jpg  \n",
            "  inflating: briq/pdf_test/Ferguson Batch from Nicki 2020-03-30.pdf_14.jpg  \n",
            "  inflating: briq/pdf_test/Ferguson Batch from Nicki 2020-03-30.pdf_15.jpg  \n",
            "  inflating: briq/pdf_test/Ferguson Batch from Nicki 2020-03-30.pdf_16.jpg  \n",
            "  inflating: briq/pdf_test/Ferguson Batch from Nicki 2020-03-30.pdf_17.jpg  \n",
            "  inflating: briq/pdf_test/config.yml  \n",
            "   creating: briq/Mcmaster/\n",
            "  inflating: briq/Mcmaster/config.yml  \n",
            "  inflating: briq/Mcmaster/Invoice 38105146 for PO 220020-1.jpg  \n",
            "  inflating: briq/Mcmaster/Invoice 38039914 for PO 4520-1.jpg  \n",
            "   creating: briq/pdf_image/\n",
            "  inflating: briq/pdf_image/fastenal-invoice (3).pdf_0.jpg  \n",
            "  inflating: briq/pdf_image/fastenal-invoice (4).pdf_0.jpg  \n",
            "  inflating: briq/pdf_image/fastenal-invoice (5).pdf_0.jpg  \n",
            "  inflating: briq/pdf_image/config.yml  \n",
            "  inflating: briq/briq_ocr_data_extraction.ipynb  \n",
            "  inflating: briq/briq-chronicle-production-394361177ce1.json  \n"
          ],
          "name": "stdout"
        }
      ]
    },
    {
      "cell_type": "code",
      "metadata": {
        "id": "3BAn9AGwiQlF",
        "colab_type": "code",
        "colab": {}
      },
      "source": [
        "!cd '/content/briq/Mcmaster' && rm -R '.ipynb_checkpoints'"
      ],
      "execution_count": 0,
      "outputs": []
    },
    {
      "cell_type": "code",
      "metadata": {
        "id": "E3441-8kpmMy",
        "colab_type": "code",
        "colab": {}
      },
      "source": [
        "\"\"\"\n",
        "input -> folder path in which images and config yaml file is stored\n",
        "output-> will extract all info's of field that are mention in yaml file\n",
        "\"\"\"\n",
        "def get_invoice_data_v1(path):\n",
        "    files = list(set(os.listdir(path))-set(['config.json']))\n",
        "    #print(files)\n",
        "    with open(os.path.join(path,'config.json'),'r') as f:\n",
        "        mapping = json.load(f)\n",
        "    data = []\n",
        "    t=[]\n",
        "    for file in files:\n",
        "        temp_df = detect_text_v1(os.path.join(path,file))\n",
        "        tmp_dict = {\"file\":file}\n",
        "        inTableMapping={}\n",
        "        ntmoveistab = []\n",
        "        movtab = []\n",
        "        ntmovnttab = []\n",
        "        ismovnttab = []\n",
        "        for k in mapping.keys():\n",
        "          if mapping[k]['isTable'] == 'True' and  mapping[k]['moveable'] == 'False' :\n",
        "            print(k)\n",
        "            mapping[k].pop('moveable')\n",
        "            mapping[k].pop('isTable')\n",
        "            if k=='table':\n",
        "              inTableMapping[k] = mapping[k]\n",
        "            else:\n",
        "              inTableMapping['table'][k]=mapping[k]\n",
        "              #mapping.pop(k)\n",
        "          elif mapping[k]['isTable'] == 'True' and  mapping[k]['moveable'] == 'True' :\n",
        "            movtab.append(k)\n",
        "            mapping[k].pop('moveable')\n",
        "            mapping[k].pop('isTable')\n",
        "          elif mapping[k]['isTable'] == 'False' and  mapping[k]['moveable'] == 'False' :\n",
        "            # ntmovnttab.append(k)\n",
        "            mapping[k].pop('moveable')\n",
        "            mapping[k].pop('isTable')\n",
        "            #filter_data = temp_df[(mapping[k]['x0'] < temp_df['centerx']) & (temp_df['centerx'] < mapping[k]['x1']) & (mapping[k]['y0'] < temp_df['centery']) & (temp_df['centery'] < mapping[k]['y1'])].sort_values(by='x0')\n",
        "            #tmp_dict[k] = data_format((\" \").join(get_sequence_data(filter_data)['text']),mapping[k][\"type\"])\n",
        "          elif mapping[k]['isTable'] == 'False' and  mapping[k]['moveable'] == 'True' :\n",
        "            # ismovnttab.append(k)\n",
        "            mapping[k].pop('moveable')\n",
        "            mapping[k].pop('isTable')\n",
        "            #print(mapping[k])\n",
        "            #tmp_dict[k] = get_moveable_field_data(get_sequence_data(temp_df),mapping[k],k)\n",
        "        # if bool(mapping['table']):\n",
        "        #   tmp_dict[k] = get_table_structure_data(get_sequence_data(temp_df),mapping['table'])\n",
        "\n",
        "        #print(ntmovnttab)\n",
        "        #print(ntmoveistab)\n",
        "        #print(movtab)\n",
        "        #print(ismovnttab)\n",
        "        #print(type(mapping))\n",
        "        #data.append(tmp_dict)\n",
        "        return inTableMapping['table']\n",
        "    \n",
        "    "
      ],
      "execution_count": 0,
      "outputs": []
    },
    {
      "cell_type": "code",
      "metadata": {
        "id": "yncYZhurIeYm",
        "colab_type": "code",
        "colab": {}
      },
      "source": [
        ""
      ],
      "execution_count": 0,
      "outputs": []
    }
  ]
}